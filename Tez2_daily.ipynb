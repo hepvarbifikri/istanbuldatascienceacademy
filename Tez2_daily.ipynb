{
  "nbformat": 4,
  "nbformat_minor": 0,
  "metadata": {
    "colab": {
      "provenance": [],
      "authorship_tag": "ABX9TyNwQInBk82QoYfm9DDDW0vq",
      "include_colab_link": true
    },
    "kernelspec": {
      "name": "python3",
      "display_name": "Python 3"
    },
    "language_info": {
      "name": "python"
    }
  },
  "cells": [
    {
      "cell_type": "markdown",
      "metadata": {
        "id": "view-in-github",
        "colab_type": "text"
      },
      "source": [
        "<a href=\"https://colab.research.google.com/github/hepvarbifikri/istanbuldatascienceacademy/blob/main/Tez2_daily.ipynb\" target=\"_parent\"><img src=\"https://colab.research.google.com/assets/colab-badge.svg\" alt=\"Open In Colab\"/></a>"
      ]
    },
    {
      "cell_type": "code",
      "execution_count": 52,
      "metadata": {
        "colab": {
          "base_uri": "https://localhost:8080/",
          "height": 673
        },
        "id": "vXzgkbzjWDSo",
        "outputId": "e60b37e6-c159-4731-c31a-ecabff40c6ad"
      },
      "outputs": [
        {
          "output_type": "stream",
          "name": "stdout",
          "text": [
            "            PTF (USD/MWh)  HES_Uretim\n",
            "Tarih_Saat                           \n",
            "2017-01-01      27.813750   31.684167\n",
            "2017-01-02      40.087500   56.477500\n",
            "2017-01-03      46.856250  202.940417\n",
            "2017-01-04      48.550833  128.352500\n",
            "2017-01-05      43.700417   42.655417\n",
            "2017-01-06      48.987083   97.644583\n",
            "2017-01-07      54.902917   72.000417\n",
            "2017-01-08      41.426667   93.685417\n",
            "2017-01-09      50.309583  150.928750\n",
            "2017-01-10      54.982500  221.463333\n",
            "2017-01-11      50.471667   40.551250\n",
            "2017-01-12      51.268333   55.724583\n",
            "2017-01-13      55.377083   87.910000\n",
            "2017-01-14      45.790833  129.822500\n",
            "2017-01-15      42.204167  108.692083\n",
            "2017-01-16      50.178333   77.379583\n",
            "2017-01-17      45.696250   88.145000\n",
            "2017-01-18      45.255417   87.645000\n",
            "2017-01-19      45.281667   78.674583\n",
            "2017-01-20      40.477500  101.340833\n"
          ]
        },
        {
          "output_type": "display_data",
          "data": {
            "text/plain": [
              "<Figure size 432x288 with 1 Axes>"
            ],
            "image/png": "[encoded data removed]"
          },
          "metadata": {
            "needs_background": "light"
          }
        }
      ],
      "source": [
        "# line plot of time series\n",
        "import pandas as pd\n",
        "from pandas import read_csv\n",
        "from matplotlib import pyplot\n",
        "# load dataset\n",
        "#series = read_csv('/content/EXIST_df_17_21_d', header=0, index_col=0)\n",
        "# Read the datasets\n",
        "\n",
        "series = pd.read_pickle(\"/content/EXIST_df_17_21_d\")\n",
        "# display first few rows\n",
        "print(series.head(20))\n",
        "# line plot of dataset\n",
        "series.plot()\n",
        "pyplot.show()"
      ]
    },
    {
      "cell_type": "code",
      "source": [
        "real_22 = pd.read_pickle(\"/content/EXIST_df_22_d\")\n",
        "real_22.drop(columns='HES_Uretim', inplace=True)\n",
        "real_22"
      ],
      "metadata": {
        "colab": {
          "base_uri": "https://localhost:8080/",
          "height": 455
        },
        "id": "q18Mqd8zeJOx",
        "outputId": "3c70db0d-1938-4499-c7c9-11b97c265110"
      },
      "execution_count": 57,
      "outputs": [
        {
          "output_type": "execute_result",
          "data": {
            "text/plain": [
              "            PTF (USD/MWh)\n",
              "Tarih_Saat               \n",
              "2022-01-01      82.115417\n",
              "2022-01-02      77.572500\n",
              "2022-01-03      87.729167\n",
              "2022-01-04      88.022500\n",
              "2022-01-05      82.099583\n",
              "...                   ...\n",
              "2022-09-27     194.245000\n",
              "2022-09-28     200.908333\n",
              "2022-09-29     199.652500\n",
              "2022-09-30     218.753333\n",
              "2022-10-01     224.694583\n",
              "\n",
              "[274 rows x 1 columns]"
            ],
            "text/html": [
              "\n",
              "  <div id=\"df-f5ad78d2-599c-4fd9-a4e7-7b82ee323a59\">\n",
              "    <div class=\"colab-df-container\">\n",
              "      <div>\n",
              "<style scoped>\n",
              "    .dataframe tbody tr th:only-of-type {\n",
              "        vertical-align: middle;\n",
              "    }\n",
              "\n",
              "    .dataframe tbody tr th {\n",
              "        vertical-align: top;\n",
              "    }\n",
              "\n",
              "    .dataframe thead th {\n",
              "        text-align: right;\n",
              "    }\n",
              "</style>\n",
              "<table border=\"1\" class=\"dataframe\">\n",
              "  <thead>\n",
              "    <tr style=\"text-align: right;\">\n",
              "      <th></th>\n",
              "      <th>PTF (USD/MWh)</th>\n",
              "    </tr>\n",
              "    <tr>\n",
              "      <th>Tarih_Saat</th>\n",
              "      <th></th>\n",
              "    </tr>\n",
              "  </thead>\n",
              "  <tbody>\n",
              "    <tr>\n",
              "      <th>2022-01-01</th>\n",
              "      <td>82.115417</td>\n",
              "    </tr>\n",
              "    <tr>\n",
              "      <th>2022-01-02</th>\n",
              "      <td>77.572500</td>\n",
              "    </tr>\n",
              "    <tr>\n",
              "      <th>2022-01-03</th>\n",
              "      <td>87.729167</td>\n",
              "    </tr>\n",
              "    <tr>\n",
              "      <th>2022-01-04</th>\n",
              "      <td>88.022500</td>\n",
              "    </tr>\n",
              "    <tr>\n",
              "      <th>2022-01-05</th>\n",
              "      <td>82.099583</td>\n",
              "    </tr>\n",
              "    <tr>\n",
              "      <th>...</th>\n",
              "      <td>...</td>\n",
              "    </tr>\n",
              "    <tr>\n",
              "      <th>2022-09-27</th>\n",
              "      <td>194.245000</td>\n",
              "    </tr>\n",
              "    <tr>\n",
              "      <th>2022-09-28</th>\n",
              "      <td>200.908333</td>\n",
              "    </tr>\n",
              "    <tr>\n",
              "      <th>2022-09-29</th>\n",
              "      <td>199.652500</td>\n",
              "    </tr>\n",
              "    <tr>\n",
              "      <th>2022-09-30</th>\n",
              "      <td>218.753333</td>\n",
              "    </tr>\n",
              "    <tr>\n",
              "      <th>2022-10-01</th>\n",
              "      <td>224.694583</td>\n",
              "    </tr>\n",
              "  </tbody>\n",
              "</table>\n",
              "<p>274 rows × 1 columns</p>\n",
              "</div>\n",
              "      <button class=\"colab-df-convert\" onclick=\"convertToInteractive('df-f5ad78d2-599c-4fd9-a4e7-7b82ee323a59')\"\n",
              "              title=\"Convert this dataframe to an interactive table.\"\n",
              "              style=\"display:none;\">\n",
              "        \n",
              "  <svg xmlns=\"http://www.w3.org/2000/svg\" height=\"24px\"viewBox=\"0 0 24 24\"\n",
              "       width=\"24px\">\n",
              "    <path d=\"M0 0h24v24H0V0z\" fill=\"none\"/>\n",
              "    <path d=\"M18.56 5.44l.94 2.06.94-2.06 2.06-.94-2.06-.94-.94-2.06-.94 2.06-2.06.94zm-11 1L8.5 8.5l.94-2.06 2.06-.94-2.06-.94L8.5 2.5l-.94 2.06-2.06.94zm10 10l.94 2.06.94-2.06 2.06-.94-2.06-.94-.94-2.06-.94 2.06-2.06.94z\"/><path d=\"M17.41 7.96l-1.37-1.37c-.4-.4-.92-.59-1.43-.59-.52 0-1.04.2-1.43.59L10.3 9.45l-7.72 7.72c-.78.78-.78 2.05 0 2.83L4 21.41c.39.39.9.59 1.41.59.51 0 1.02-.2 1.41-.59l7.78-7.78 2.81-2.81c.8-.78.8-2.07 0-2.86zM5.41 20L4 18.59l7.72-7.72 1.47 1.35L5.41 20z\"/>\n",
              "  </svg>\n",
              "      </button>\n",
              "      \n",
              "  <style>\n",
              "    .colab-df-container {\n",
              "      display:flex;\n",
              "      flex-wrap:wrap;\n",
              "      gap: 12px;\n",
              "    }\n",
              "\n",
              "    .colab-df-convert {\n",
              "      background-color: #E8F0FE;\n",
              "      border: none;\n",
              "      border-radius: 50%;\n",
              "      cursor: pointer;\n",
              "      display: none;\n",
              "      fill: #1967D2;\n",
              "      height: 32px;\n",
              "      padding: 0 0 0 0;\n",
              "      width: 32px;\n",
              "    }\n",
              "\n",
              "    .colab-df-convert:hover {\n",
              "      background-color: #E2EBFA;\n",
              "      box-shadow: 0px 1px 2px rgba(60, 64, 67, 0.3), 0px 1px 3px 1px rgba(60, 64, 67, 0.15);\n",
              "      fill: #174EA6;\n",
              "    }\n",
              "\n",
              "    [theme=dark] .colab-df-convert {\n",
              "      background-color: #3B4455;\n",
              "      fill: #D2E3FC;\n",
              "    }\n",
              "\n",
              "    [theme=dark] .colab-df-convert:hover {\n",
              "      background-color: #434B5C;\n",
              "      box-shadow: 0px 1px 3px 1px rgba(0, 0, 0, 0.15);\n",
              "      filter: drop-shadow(0px 1px 2px rgba(0, 0, 0, 0.3));\n",
              "      fill: #FFFFFF;\n",
              "    }\n",
              "  </style>\n",
              "\n",
              "      <script>\n",
              "        const buttonEl =\n",
              "          document.querySelector('#df-f5ad78d2-599c-4fd9-a4e7-7b82ee323a59 button.colab-df-convert');\n",
              "        buttonEl.style.display =\n",
              "          google.colab.kernel.accessAllowed ? 'block' : 'none';\n",
              "\n",
              "        async function convertToInteractive(key) {\n",
              "          const element = document.querySelector('#df-f5ad78d2-599c-4fd9-a4e7-7b82ee323a59');\n",
              "          const dataTable =\n",
              "            await google.colab.kernel.invokeFunction('convertToInteractive',\n",
              "                                                     [key], {});\n",
              "          if (!dataTable) return;\n",
              "\n",
              "          const docLinkHtml = 'Like what you see? Visit the ' +\n",
              "            '<a target=\"_blank\" href=https://colab.research.google.com/notebooks/data_table.ipynb>data table notebook</a>'\n",
              "            + ' to learn more about interactive tables.';\n",
              "          element.innerHTML = '';\n",
              "          dataTable['output_type'] = 'display_data';\n",
              "          await google.colab.output.renderOutput(dataTable, element);\n",
              "          const docLink = document.createElement('div');\n",
              "          docLink.innerHTML = docLinkHtml;\n",
              "          element.appendChild(docLink);\n",
              "        }\n",
              "      </script>\n",
              "    </div>\n",
              "  </div>\n",
              "  "
            ]
          },
          "metadata": {},
          "execution_count": 57
        }
      ]
    },
    {
      "cell_type": "code",
      "source": [
        "series.drop(columns='HES_Uretim', inplace=True)"
      ],
      "metadata": {
        "id": "8NPRbX2mXFMA"
      },
      "execution_count": 53,
      "outputs": []
    },
    {
      "cell_type": "code",
      "source": [
        "series"
      ],
      "metadata": {
        "colab": {
          "base_uri": "https://localhost:8080/",
          "height": 455
        },
        "id": "A9VYXhGzXcBd",
        "outputId": "9219a07c-4bdd-4be4-c2c3-ce22e1744674"
      },
      "execution_count": 6,
      "outputs": [
        {
          "output_type": "execute_result",
          "data": {
            "text/plain": [
              "            PTF (USD/MWh)\n",
              "Tarih_Saat               \n",
              "2017-01-01      27.813750\n",
              "2017-01-02      40.087500\n",
              "2017-01-03      46.856250\n",
              "2017-01-04      48.550833\n",
              "2017-01-05      43.700417\n",
              "...                   ...\n",
              "2021-12-27      91.775417\n",
              "2021-12-28      91.507917\n",
              "2021-12-29      96.584583\n",
              "2021-12-30      90.643750\n",
              "2021-12-31      80.106250\n",
              "\n",
              "[1826 rows x 1 columns]"
            ],
            "text/html": [
              "\n",
              "  <div id=\"df-59b3b40c-c6fc-402d-a9a1-94f44cea2034\">\n",
              "    <div class=\"colab-df-container\">\n",
              "      <div>\n",
              "<style scoped>\n",
              "    .dataframe tbody tr th:only-of-type {\n",
              "        vertical-align: middle;\n",
              "    }\n",
              "\n",
              "    .dataframe tbody tr th {\n",
              "        vertical-align: top;\n",
              "    }\n",
              "\n",
              "    .dataframe thead th {\n",
              "        text-align: right;\n",
              "    }\n",
              "</style>\n",
              "<table border=\"1\" class=\"dataframe\">\n",
              "  <thead>\n",
              "    <tr style=\"text-align: right;\">\n",
              "      <th></th>\n",
              "      <th>PTF (USD/MWh)</th>\n",
              "    </tr>\n",
              "    <tr>\n",
              "      <th>Tarih_Saat</th>\n",
              "      <th></th>\n",
              "    </tr>\n",
              "  </thead>\n",
              "  <tbody>\n",
              "    <tr>\n",
              "      <th>2017-01-01</th>\n",
              "      <td>27.813750</td>\n",
              "    </tr>\n",
              "    <tr>\n",
              "      <th>2017-01-02</th>\n",
              "      <td>40.087500</td>\n",
              "    </tr>\n",
              "    <tr>\n",
              "      <th>2017-01-03</th>\n",
              "      <td>46.856250</td>\n",
              "    </tr>\n",
              "    <tr>\n",
              "      <th>2017-01-04</th>\n",
              "      <td>48.550833</td>\n",
              "    </tr>\n",
              "    <tr>\n",
              "      <th>2017-01-05</th>\n",
              "      <td>43.700417</td>\n",
              "    </tr>\n",
              "    <tr>\n",
              "      <th>...</th>\n",
              "      <td>...</td>\n",
              "    </tr>\n",
              "    <tr>\n",
              "      <th>2021-12-27</th>\n",
              "      <td>91.775417</td>\n",
              "    </tr>\n",
              "    <tr>\n",
              "      <th>2021-12-28</th>\n",
              "      <td>91.507917</td>\n",
              "    </tr>\n",
              "    <tr>\n",
              "      <th>2021-12-29</th>\n",
              "      <td>96.584583</td>\n",
              "    </tr>\n",
              "    <tr>\n",
              "      <th>2021-12-30</th>\n",
              "      <td>90.643750</td>\n",
              "    </tr>\n",
              "    <tr>\n",
              "      <th>2021-12-31</th>\n",
              "      <td>80.106250</td>\n",
              "    </tr>\n",
              "  </tbody>\n",
              "</table>\n",
              "<p>1826 rows × 1 columns</p>\n",
              "</div>\n",
              "      <button class=\"colab-df-convert\" onclick=\"convertToInteractive('df-59b3b40c-c6fc-402d-a9a1-94f44cea2034')\"\n",
              "              title=\"Convert this dataframe to an interactive table.\"\n",
              "              style=\"display:none;\">\n",
              "        \n",
              "  <svg xmlns=\"http://www.w3.org/2000/svg\" height=\"24px\"viewBox=\"0 0 24 24\"\n",
              "       width=\"24px\">\n",
              "    <path d=\"M0 0h24v24H0V0z\" fill=\"none\"/>\n",
              "    <path d=\"M18.56 5.44l.94 2.06.94-2.06 2.06-.94-2.06-.94-.94-2.06-.94 2.06-2.06.94zm-11 1L8.5 8.5l.94-2.06 2.06-.94-2.06-.94L8.5 2.5l-.94 2.06-2.06.94zm10 10l.94 2.06.94-2.06 2.06-.94-2.06-.94-.94-2.06-.94 2.06-2.06.94z\"/><path d=\"M17.41 7.96l-1.37-1.37c-.4-.4-.92-.59-1.43-.59-.52 0-1.04.2-1.43.59L10.3 9.45l-7.72 7.72c-.78.78-.78 2.05 0 2.83L4 21.41c.39.39.9.59 1.41.59.51 0 1.02-.2 1.41-.59l7.78-7.78 2.81-2.81c.8-.78.8-2.07 0-2.86zM5.41 20L4 18.59l7.72-7.72 1.47 1.35L5.41 20z\"/>\n",
              "  </svg>\n",
              "      </button>\n",
              "      \n",
              "  <style>\n",
              "    .colab-df-container {\n",
              "      display:flex;\n",
              "      flex-wrap:wrap;\n",
              "      gap: 12px;\n",
              "    }\n",
              "\n",
              "    .colab-df-convert {\n",
              "      background-color: #E8F0FE;\n",
              "      border: none;\n",
              "      border-radius: 50%;\n",
              "      cursor: pointer;\n",
              "      display: none;\n",
              "      fill: #1967D2;\n",
              "      height: 32px;\n",
              "      padding: 0 0 0 0;\n",
              "      width: 32px;\n",
              "    }\n",
              "\n",
              "    .colab-df-convert:hover {\n",
              "      background-color: #E2EBFA;\n",
              "      box-shadow: 0px 1px 2px rgba(60, 64, 67, 0.3), 0px 1px 3px 1px rgba(60, 64, 67, 0.15);\n",
              "      fill: #174EA6;\n",
              "    }\n",
              "\n",
              "    [theme=dark] .colab-df-convert {\n",
              "      background-color: #3B4455;\n",
              "      fill: #D2E3FC;\n",
              "    }\n",
              "\n",
              "    [theme=dark] .colab-df-convert:hover {\n",
              "      background-color: #434B5C;\n",
              "      box-shadow: 0px 1px 3px 1px rgba(0, 0, 0, 0.15);\n",
              "      filter: drop-shadow(0px 1px 2px rgba(0, 0, 0, 0.3));\n",
              "      fill: #FFFFFF;\n",
              "    }\n",
              "  </style>\n",
              "\n",
              "      <script>\n",
              "        const buttonEl =\n",
              "          document.querySelector('#df-59b3b40c-c6fc-402d-a9a1-94f44cea2034 button.colab-df-convert');\n",
              "        buttonEl.style.display =\n",
              "          google.colab.kernel.accessAllowed ? 'block' : 'none';\n",
              "\n",
              "        async function convertToInteractive(key) {\n",
              "          const element = document.querySelector('#df-59b3b40c-c6fc-402d-a9a1-94f44cea2034');\n",
              "          const dataTable =\n",
              "            await google.colab.kernel.invokeFunction('convertToInteractive',\n",
              "                                                     [key], {});\n",
              "          if (!dataTable) return;\n",
              "\n",
              "          const docLinkHtml = 'Like what you see? Visit the ' +\n",
              "            '<a target=\"_blank\" href=https://colab.research.google.com/notebooks/data_table.ipynb>data table notebook</a>'\n",
              "            + ' to learn more about interactive tables.';\n",
              "          element.innerHTML = '';\n",
              "          dataTable['output_type'] = 'display_data';\n",
              "          await google.colab.output.renderOutput(dataTable, element);\n",
              "          const docLink = document.createElement('div');\n",
              "          docLink.innerHTML = docLinkHtml;\n",
              "          element.appendChild(docLink);\n",
              "        }\n",
              "      </script>\n",
              "    </div>\n",
              "  </div>\n",
              "  "
            ]
          },
          "metadata": {},
          "execution_count": 6
        }
      ]
    },
    {
      "cell_type": "code",
      "source": [
        "# split the dataset\n",
        "from pandas import read_csv\n",
        "#series = read_csv('daily-minimum-temperatures.csv', header=0, index_col=0)\n",
        "split_point = len(series) - 7\n",
        "dataset, validation = series[0:split_point], series[split_point:]\n",
        "print('Dataset %d, Validation %d' % (len(dataset), len(validation)))\n",
        "dataset.to_csv('dataset.csv', index=False)\n",
        "validation.to_csv('validation.csv', index=False)"
      ],
      "metadata": {
        "colab": {
          "base_uri": "https://localhost:8080/"
        },
        "id": "hs3ecjngWHzo",
        "outputId": "3878ce73-d846-460b-89cd-49bd64a476eb"
      },
      "execution_count": 7,
      "outputs": [
        {
          "output_type": "stream",
          "name": "stdout",
          "text": [
            "Dataset 1819, Validation 7\n"
          ]
        }
      ]
    },
    {
      "cell_type": "code",
      "source": [
        "from pandas import read_csv\n",
        "from statsmodels.tsa.arima.model import ARIMA\n",
        "import numpy\n",
        "\n",
        "# create a differenced series\n",
        "def difference(dataset, interval=1):\n",
        "\tdiff = list()\n",
        "\tfor i in range(interval, len(dataset)):\n",
        "\t\tvalue = dataset[i] - dataset[i - interval]\n",
        "\t\tdiff.append(value)\n",
        "\treturn numpy.array(diff)\n",
        "\n",
        "# load dataset\n",
        "series = read_csv('dataset.csv', header=0)\n",
        "# seasonal difference\n",
        "X = series.values\n",
        "days_in_year = 365\n",
        "differenced = difference(X, days_in_year)\n",
        "# fit model\n",
        "model = ARIMA(differenced, order=(7,0,1))\n",
        "model_fit = model.fit()\n",
        "# print summary of fit model\n",
        "print(model_fit.summary())"
      ],
      "metadata": {
        "colab": {
          "base_uri": "https://localhost:8080/"
        },
        "id": "wHxBF6nMWLA3",
        "outputId": "60ac387b-1e0a-496c-fac3-71a07a9001e6"
      },
      "execution_count": 8,
      "outputs": [
        {
          "output_type": "stream",
          "name": "stdout",
          "text": [
            "                               SARIMAX Results                                \n",
            "==============================================================================\n",
            "Dep. Variable:                      y   No. Observations:                 1454\n",
            "Model:                 ARIMA(7, 0, 1)   Log Likelihood               -4813.587\n",
            "Date:                Thu, 15 Dec 2022   AIC                           9647.173\n",
            "Time:                        10:40:09   BIC                           9699.994\n",
            "Sample:                             0   HQIC                          9666.882\n",
            "                               - 1454                                         \n",
            "Covariance Type:                  opg                                         \n",
            "==============================================================================\n",
            "                 coef    std err          z      P>|z|      [0.025      0.975]\n",
            "------------------------------------------------------------------------------\n",
            "const          2.4258      4.211      0.576      0.565      -5.828      10.679\n",
            "ar.L1          0.0225      0.030      0.755      0.450      -0.036       0.081\n",
            "ar.L2          0.2964      0.022     13.633      0.000       0.254       0.339\n",
            "ar.L3          0.1250      0.020      6.303      0.000       0.086       0.164\n",
            "ar.L4          0.0754      0.020      3.804      0.000       0.037       0.114\n",
            "ar.L5          0.0520      0.019      2.699      0.007       0.014       0.090\n",
            "ar.L6         -0.0962      0.019     -5.019      0.000      -0.134      -0.059\n",
            "ar.L7          0.4609      0.019     24.129      0.000       0.423       0.498\n",
            "ma.L1          0.5644      0.031     17.992      0.000       0.503       0.626\n",
            "sigma2        43.8483      1.110     39.501      0.000      41.673      46.024\n",
            "===================================================================================\n",
            "Ljung-Box (L1) (Q):                   3.12   Jarque-Bera (JB):               386.87\n",
            "Prob(Q):                              0.08   Prob(JB):                         0.00\n",
            "Heteroskedasticity (H):               1.41   Skew:                             0.27\n",
            "Prob(H) (two-sided):                  0.00   Kurtosis:                         5.47\n",
            "===================================================================================\n",
            "\n",
            "Warnings:\n",
            "[1] Covariance matrix calculated using the outer product of gradients (complex-step).\n"
          ]
        }
      ]
    },
    {
      "cell_type": "code",
      "source": [
        "from pandas import read_csv\n",
        "from statsmodels.tsa.arima.model import ARIMA\n",
        "import numpy\n",
        "\n",
        "# create a differenced series\n",
        "def difference(dataset, interval=1):\n",
        "\tdiff = list()\n",
        "\tfor i in range(interval, len(dataset)):\n",
        "\t\tvalue = dataset[i] - dataset[i - interval]\n",
        "\t\tdiff.append(value)\n",
        "\treturn numpy.array(diff)\n",
        "\n",
        "# invert differenced value\n",
        "def inverse_difference(history, yhat, interval=1):\n",
        "\treturn yhat + history[-interval]\n",
        "\n",
        "# load dataset\n",
        "series = read_csv('dataset.csv', header=0)\n",
        "# seasonal difference\n",
        "X = series.values\n",
        "days_in_year = 365\n",
        "differenced = difference(X, days_in_year)\n",
        "# fit model\n",
        "model = ARIMA(differenced, order=(7,0,1))\n",
        "model_fit = model.fit()\n",
        "# one-step out-of sample forecast\n",
        "forecast = model_fit.forecast()[0]\n",
        "# invert the differenced forecast to something usable\n",
        "forecast = inverse_difference(X, forecast, days_in_year)\n",
        "print('Forecast: %f' % forecast)"
      ],
      "metadata": {
        "colab": {
          "base_uri": "https://localhost:8080/"
        },
        "id": "DdGe6XQvWOXJ",
        "outputId": "811fc9c5-55cc-4841-a2b8-fd55de10d4d5"
      },
      "execution_count": 9,
      "outputs": [
        {
          "output_type": "stream",
          "name": "stdout",
          "text": [
            "Forecast: 75.368323\n"
          ]
        }
      ]
    },
    {
      "cell_type": "code",
      "source": [
        "from pandas import read_csv\n",
        "from statsmodels.tsa.arima.model import ARIMA\n",
        "import numpy\n",
        "from pandas import datetime\n",
        "\n",
        "# create a differenced series\n",
        "def difference(dataset, interval=1):\n",
        "\tdiff = list()\n",
        "\tfor i in range(interval, len(dataset)):\n",
        "\t\tvalue = dataset[i] - dataset[i - interval]\n",
        "\t\tdiff.append(value)\n",
        "\treturn numpy.array(diff)\n",
        "\n",
        "# invert differenced value\n",
        "def inverse_difference(history, yhat, interval=1):\n",
        "\treturn yhat + history[-interval]\n",
        "\n",
        "# load dataset\n",
        "series = read_csv('dataset.csv', header=0)\n",
        "# seasonal difference\n",
        "X = series.values\n",
        "days_in_year = 365\n",
        "differenced = difference(X, days_in_year)\n",
        "# fit model\n",
        "model = ARIMA(differenced, order=(7,0,1))\n",
        "model_fit = model.fit()\n",
        "# one-step out of sample forecast\n",
        "start_index = len(differenced)\n",
        "end_index = len(differenced)\n",
        "forecast = model_fit.predict(start=start_index, end=end_index)\n",
        "# invert the differenced forecast to something usable\n",
        "forecast = inverse_difference(X, forecast, days_in_year)\n",
        "print('Forecast: %f' % forecast)"
      ],
      "metadata": {
        "colab": {
          "base_uri": "https://localhost:8080/"
        },
        "id": "VOp015btWQ5Z",
        "outputId": "3ab009f7-581e-4f2e-9f8f-26074b7ee6ef"
      },
      "execution_count": 10,
      "outputs": [
        {
          "output_type": "stream",
          "name": "stderr",
          "text": [
            "<ipython-input-10-48f89097e058>:4: FutureWarning: The pandas.datetime class is deprecated and will be removed from pandas in a future version. Import from datetime module instead.\n",
            "  from pandas import datetime\n"
          ]
        },
        {
          "output_type": "stream",
          "name": "stdout",
          "text": [
            "Forecast: 75.368323\n"
          ]
        }
      ]
    },
    {
      "cell_type": "code",
      "source": [
        "from pandas import read_csv\n",
        "from statsmodels.tsa.arima.model import ARIMA\n",
        "import numpy\n",
        "\n",
        "# create a differenced series\n",
        "def difference(dataset, interval=1):\n",
        "  diff = list()\n",
        "  for i in range(interval, len(dataset)):\n",
        "    value = dataset[i] - dataset[i - interval]\n",
        "    diff.append(value)\n",
        "  return numpy.array(diff)\n",
        "\n",
        "# invert differenced value\n",
        "def inverse_difference(history, yhat, interval=1):\n",
        "  return yhat + history[-interval]\n",
        "\n",
        "# load dataset\n",
        "series = read_csv('dataset.csv', header=0)\n",
        "# seasonal difference\n",
        "X = series.values\n",
        "days_in_year = 365\n",
        "differenced = difference(X, days_in_year)\n",
        "# fit model\n",
        "model = ARIMA(differenced, order=(7,0,1))\n",
        "model_fit = model.fit()\n",
        "# multi-step out-of-sample forecast\n",
        "forecast = model_fit.forecast(steps=274)\n",
        "# invert the differenced forecast to something usable\n",
        "history = [x for x in X]\n",
        "day = 1\n",
        "tahmin = list()\n",
        "for yhat in forecast:\n",
        "  inverted = inverse_difference(history, yhat, days_in_year)\n",
        "  print('Day %d: %f' % (day, inverted))\n",
        "  history.append(inverted)\n",
        "  day += 1\n",
        "  tahmin.append(inverted)\n"
      ],
      "metadata": {
        "colab": {
          "base_uri": "https://localhost:8080/"
        },
        "id": "dF2CZT5fY8hA",
        "outputId": "1e18286b-fcb8-4740-aff8-107d2a647c65"
      },
      "execution_count": 55,
      "outputs": [
        {
          "output_type": "stream",
          "name": "stdout",
          "text": [
            "Day 1: 75.368323\n",
            "Day 2: 68.917298\n",
            "Day 3: 70.889784\n",
            "Day 4: 71.200409\n",
            "Day 5: 65.639761\n",
            "Day 6: 72.747125\n",
            "Day 7: 72.701063\n",
            "Day 8: 68.071082\n",
            "Day 9: 70.287835\n",
            "Day 10: 70.814071\n",
            "Day 11: 71.033275\n",
            "Day 12: 66.649664\n",
            "Day 13: 71.519337\n",
            "Day 14: 70.287072\n",
            "Day 15: 69.283170\n",
            "Day 16: 66.136498\n",
            "Day 17: 66.070962\n",
            "Day 18: 68.043764\n",
            "Day 19: 67.172431\n",
            "Day 20: 70.260194\n",
            "Day 21: 70.906919\n",
            "Day 22: 68.488479\n",
            "Day 23: 68.411747\n",
            "Day 24: 64.850246\n",
            "Day 25: 67.554535\n",
            "Day 26: 67.745532\n",
            "Day 27: 68.805951\n",
            "Day 28: 68.224044\n",
            "Day 29: 67.417836\n",
            "Day 30: 63.353181\n",
            "Day 31: 61.288176\n",
            "Day 32: 62.177423\n",
            "Day 33: 62.484684\n",
            "Day 34: 62.972517\n",
            "Day 35: 66.148994\n",
            "Day 36: 64.336498\n",
            "Day 37: 60.590449\n",
            "Day 38: 58.475963\n",
            "Day 39: 58.947614\n",
            "Day 40: 60.602558\n",
            "Day 41: 62.836721\n",
            "Day 42: 62.323192\n",
            "Day 43: 61.790970\n",
            "Day 44: 58.931078\n",
            "Day 45: 55.846696\n",
            "Day 46: 57.335748\n",
            "Day 47: 57.925308\n",
            "Day 48: 57.538859\n",
            "Day 49: 56.889170\n",
            "Day 50: 59.714078\n",
            "Day 51: 56.369990\n",
            "Day 52: 52.604126\n",
            "Day 53: 57.793682\n",
            "Day 54: 59.250761\n",
            "Day 55: 59.989871\n",
            "Day 56: 62.096273\n",
            "Day 57: 61.801959\n",
            "Day 58: 61.810816\n",
            "Day 59: 55.188207\n",
            "Day 60: 59.340360\n",
            "Day 61: 61.644949\n",
            "Day 62: 59.347498\n",
            "Day 63: 55.518924\n",
            "Day 64: 59.029115\n",
            "Day 65: 56.657346\n",
            "Day 66: 51.222804\n",
            "Day 67: 55.822401\n",
            "Day 68: 55.547688\n",
            "Day 69: 56.254832\n",
            "Day 70: 58.497413\n",
            "Day 71: 57.051003\n",
            "Day 72: 54.525582\n",
            "Day 73: 52.901068\n",
            "Day 74: 57.245415\n",
            "Day 75: 56.957353\n",
            "Day 76: 56.875340\n",
            "Day 77: 55.907351\n",
            "Day 78: 57.448313\n",
            "Day 79: 57.063215\n",
            "Day 80: 54.399376\n",
            "Day 81: 54.631437\n",
            "Day 82: 53.447693\n",
            "Day 83: 56.731910\n",
            "Day 84: 56.519206\n",
            "Day 85: 61.390290\n",
            "Day 86: 54.238915\n",
            "Day 87: 50.584054\n",
            "Day 88: 52.085255\n",
            "Day 89: 51.935863\n",
            "Day 90: 49.380752\n",
            "Day 91: 48.604797\n",
            "Day 92: 48.976293\n",
            "Day 93: 49.804839\n",
            "Day 94: 44.869991\n",
            "Day 95: 48.317306\n",
            "Day 96: 50.008872\n",
            "Day 97: 46.671153\n",
            "Day 98: 46.825960\n",
            "Day 99: 49.228986\n",
            "Day 100: 44.130751\n",
            "Day 101: 38.680138\n",
            "Day 102: 47.522570\n",
            "Day 103: 48.515315\n",
            "Day 104: 44.865264\n",
            "Day 105: 45.359495\n",
            "Day 106: 43.649619\n",
            "Day 107: 43.916446\n",
            "Day 108: 44.196685\n",
            "Day 109: 48.280795\n",
            "Day 110: 49.102458\n",
            "Day 111: 45.876265\n",
            "Day 112: 48.991289\n",
            "Day 113: 48.894562\n",
            "Day 114: 47.615020\n",
            "Day 115: 43.458483\n",
            "Day 116: 47.988442\n",
            "Day 117: 47.775375\n",
            "Day 118: 47.910316\n",
            "Day 119: 47.817097\n",
            "Day 120: 47.232699\n",
            "Day 121: 45.619873\n",
            "Day 122: 42.108480\n",
            "Day 123: 46.196084\n",
            "Day 124: 54.105240\n",
            "Day 125: 48.495189\n",
            "Day 126: 59.528329\n",
            "Day 127: 51.361577\n",
            "Day 128: 47.315906\n",
            "Day 129: 48.290306\n",
            "Day 130: 52.889561\n",
            "Day 131: 49.978025\n",
            "Day 132: 54.026848\n",
            "Day 133: 55.121999\n",
            "Day 134: 52.732330\n",
            "Day 135: 50.306119\n",
            "Day 136: 41.142802\n",
            "Day 137: 48.882410\n",
            "Day 138: 47.928614\n",
            "Day 139: 49.350203\n",
            "Day 140: 42.642761\n",
            "Day 141: 45.957516\n",
            "Day 142: 45.776146\n",
            "Day 143: 49.571618\n",
            "Day 144: 52.546634\n",
            "Day 145: 56.550337\n",
            "Day 146: 52.138627\n",
            "Day 147: 54.387857\n",
            "Day 148: 49.774394\n",
            "Day 149: 50.074200\n",
            "Day 150: 46.430413\n",
            "Day 151: 50.781398\n",
            "Day 152: 50.022010\n",
            "Day 153: 49.396399\n",
            "Day 154: 51.815413\n",
            "Day 155: 51.197779\n",
            "Day 156: 50.226031\n",
            "Day 157: 49.039969\n",
            "Day 158: 50.645897\n",
            "Day 159: 50.714546\n",
            "Day 160: 48.783654\n",
            "Day 161: 47.868970\n",
            "Day 162: 47.261251\n",
            "Day 163: 45.989463\n",
            "Day 164: 45.058565\n",
            "Day 165: 48.631391\n",
            "Day 166: 48.178426\n",
            "Day 167: 48.605086\n",
            "Day 168: 48.495370\n",
            "Day 169: 49.657938\n",
            "Day 170: 50.095609\n",
            "Day 171: 47.325264\n",
            "Day 172: 50.378675\n",
            "Day 173: 50.371570\n",
            "Day 174: 49.566579\n",
            "Day 175: 49.557635\n",
            "Day 176: 49.671733\n",
            "Day 177: 49.581750\n",
            "Day 178: 46.707804\n",
            "Day 179: 53.317199\n",
            "Day 180: 53.532220\n",
            "Day 181: 56.504336\n",
            "Day 182: 60.008679\n",
            "Day 183: 57.528506\n",
            "Day 184: 59.007553\n",
            "Day 185: 53.242969\n",
            "Day 186: 62.621712\n",
            "Day 187: 62.945995\n",
            "Day 188: 64.631101\n",
            "Day 189: 70.204203\n",
            "Day 190: 70.483157\n",
            "Day 191: 64.968379\n",
            "Day 192: 63.128235\n",
            "Day 193: 68.429731\n",
            "Day 194: 71.699613\n",
            "Day 195: 69.347791\n",
            "Day 196: 65.325160\n",
            "Day 197: 58.717506\n",
            "Day 198: 58.786084\n",
            "Day 199: 54.634657\n",
            "Day 200: 66.771094\n",
            "Day 201: 65.206276\n",
            "Day 202: 64.848477\n",
            "Day 203: 59.269821\n",
            "Day 204: 67.686521\n",
            "Day 205: 70.661500\n",
            "Day 206: 63.254345\n",
            "Day 207: 60.768776\n",
            "Day 208: 56.757322\n",
            "Day 209: 59.807858\n",
            "Day 210: 52.302078\n",
            "Day 211: 54.778288\n",
            "Day 212: 61.981493\n",
            "Day 213: 56.273359\n",
            "Day 214: 68.138032\n",
            "Day 215: 69.903446\n",
            "Day 216: 68.611657\n",
            "Day 217: 69.290599\n",
            "Day 218: 72.314000\n",
            "Day 219: 72.683531\n",
            "Day 220: 69.480439\n",
            "Day 221: 74.407627\n",
            "Day 222: 77.191773\n",
            "Day 223: 77.662855\n",
            "Day 224: 79.729635\n",
            "Day 225: 79.214181\n",
            "Day 226: 77.434828\n",
            "Day 227: 65.099072\n",
            "Day 228: 68.783155\n",
            "Day 229: 72.157914\n",
            "Day 230: 70.942086\n",
            "Day 231: 68.347760\n",
            "Day 232: 61.714091\n",
            "Day 233: 55.813998\n",
            "Day 234: 55.000809\n",
            "Day 235: 69.231602\n",
            "Day 236: 69.367627\n",
            "Day 237: 74.210543\n",
            "Day 238: 72.346602\n",
            "Day 239: 62.601629\n",
            "Day 240: 63.088541\n",
            "Day 241: 54.513167\n",
            "Day 242: 61.205503\n",
            "Day 243: 67.828464\n",
            "Day 244: 71.971629\n",
            "Day 245: 74.333331\n",
            "Day 246: 74.935647\n",
            "Day 247: 75.687743\n",
            "Day 248: 64.483782\n",
            "Day 249: 67.989177\n",
            "Day 250: 71.331012\n",
            "Day 251: 74.964696\n",
            "Day 252: 67.353564\n",
            "Day 253: 64.588027\n",
            "Day 254: 62.430168\n",
            "Day 255: 63.144566\n",
            "Day 256: 62.453719\n",
            "Day 257: 66.085126\n",
            "Day 258: 66.187532\n",
            "Day 259: 68.744269\n",
            "Day 260: 68.998669\n",
            "Day 261: 66.885728\n",
            "Day 262: 61.991695\n",
            "Day 263: 66.880317\n",
            "Day 264: 65.227842\n",
            "Day 265: 65.832601\n",
            "Day 266: 67.085008\n",
            "Day 267: 67.261312\n",
            "Day 268: 67.396510\n",
            "Day 269: 60.827683\n",
            "Day 270: 67.017747\n",
            "Day 271: 61.930032\n",
            "Day 272: 60.582452\n",
            "Day 273: 60.566257\n",
            "Day 274: 62.731444\n"
          ]
        }
      ]
    },
    {
      "cell_type": "code",
      "source": [
        "df = pd.DataFrame(tahmin)\n",
        "df.astype(float)\n",
        "df.plot()\n",
        "real_22.plot()\n",
        "pyplot.show()"
      ],
      "metadata": {
        "colab": {
          "base_uri": "https://localhost:8080/",
          "height": 540
        },
        "id": "xyD6cSx0c8J9",
        "outputId": "5eef8b52-08d8-4755-818e-b533182740cb"
      },
      "execution_count": 60,
      "outputs": [
        {
          "output_type": "display_data",
          "data": {
            "text/plain": [
              "<Figure size 432x288 with 1 Axes>"
            ],
            "image/png": "[encoded data removed]"
          },
          "metadata": {
            "needs_background": "light"
          }
        },
        {
          "output_type": "display_data",
          "data": {
            "text/plain": [
              "<Figure size 432x288 with 1 Axes>"
            ],
            "image/png": "[encoded data removed]"
          },
          "metadata": {
            "needs_background": "light"
          }
        }
      ]
    },
    {
      "cell_type": "code",
      "source": [
        "real_22['tahmin'] = tahmin\n",
        "real_22['tahmin'] = real_22['tahmin'].astype(float)"
      ],
      "metadata": {
        "id": "cwpSOyqjf6WM"
      },
      "execution_count": 82,
      "outputs": []
    },
    {
      "cell_type": "code",
      "source": [
        "real_22.info()"
      ],
      "metadata": {
        "colab": {
          "base_uri": "https://localhost:8080/"
        },
        "id": "RJBdhn6tgIwm",
        "outputId": "02b804be-27b2-4549-f968-c526b9d43379"
      },
      "execution_count": 83,
      "outputs": [
        {
          "output_type": "stream",
          "name": "stdout",
          "text": [
            "<class 'pandas.core.frame.DataFrame'>\n",
            "DatetimeIndex: 274 entries, 2022-01-01 to 2022-10-01\n",
            "Freq: D\n",
            "Data columns (total 2 columns):\n",
            " #   Column         Non-Null Count  Dtype  \n",
            "---  ------         --------------  -----  \n",
            " 0   PTF (USD/MWh)  274 non-null    float64\n",
            " 1   tahmin         274 non-null    float64\n",
            "dtypes: float64(2)\n",
            "memory usage: 6.4 KB\n"
          ]
        }
      ]
    },
    {
      "cell_type": "code",
      "source": [
        "import matplotlib.pyplot as plt\n",
        "\n",
        "plt.figure(figsize=(12,5))\n",
        "plt.xlabel(\"Date\")\n",
        "\n",
        "ax1 = real_22[\"PTF (USD/MWh)\"].plot(color= \"blue\", grid = True, label = \"Actual Total PTF (USD/MWh)\")\n",
        "ax2 = real_22[\"tahmin\"].plot(color= \"red\", grid = True, label = \"Predicted PTF (USD/MWh)\")\n",
        "\n",
        "ax1.legend(loc=1)\n",
        "ax2.legend(loc=2)\n",
        "plt.title( \"Predicted vs Actual PTF (USD/MWh)\")\n",
        "plt.show()"
      ],
      "metadata": {
        "colab": {
          "base_uri": "https://localhost:8080/",
          "height": 362
        },
        "id": "dq2WaN0efN_q",
        "outputId": "123664b9-c367-4760-ec9f-310ab8f07df5"
      },
      "execution_count": 68,
      "outputs": [
        {
          "output_type": "display_data",
          "data": {
            "text/plain": [
              "<Figure size 864x360 with 1 Axes>"
            ],
            "image/png": "[encoded data removed]"
          },
          "metadata": {
            "needs_background": "light"
          }
        }
      ]
    },
    {
      "cell_type": "code",
      "source": [
        "from sklearn.metrics import mean_squared_error, mean_absolute_error\n",
        "from math import sqrt\n",
        "\n",
        "#Checking the Root Mean Square Error\n",
        "\n",
        "for i in range(274):\n",
        "    print('RMSE for', i, 'is: ', sqrt(mean_squared_error(real_22['PTF (USD/MWh)'][i], real_22['tahmin'][i])))"
      ],
      "metadata": {
        "colab": {
          "base_uri": "https://localhost:8080/",
          "height": 353
        },
        "id": "ogKGwmU3gxED",
        "outputId": "0d8a93ef-c7f3-4332-c9d0-2f4ea38c02b4"
      },
      "execution_count": 84,
      "outputs": [
        {
          "output_type": "error",
          "ename": "TypeError",
          "evalue": "ignored",
          "traceback": [
            "\u001b[0;31m---------------------------------------------------------------------------\u001b[0m",
            "\u001b[0;31mTypeError\u001b[0m                                 Traceback (most recent call last)",
            "\u001b[0;32m<ipython-input-84-c43f9bf87e40>\u001b[0m in \u001b[0;36m<module>\u001b[0;34m\u001b[0m\n\u001b[1;32m      5\u001b[0m \u001b[0;34m\u001b[0m\u001b[0m\n\u001b[1;32m      6\u001b[0m \u001b[0;32mfor\u001b[0m \u001b[0mi\u001b[0m \u001b[0;32min\u001b[0m \u001b[0mrange\u001b[0m\u001b[0;34m(\u001b[0m\u001b[0;36m274\u001b[0m\u001b[0;34m)\u001b[0m\u001b[0;34m:\u001b[0m\u001b[0;34m\u001b[0m\u001b[0;34m\u001b[0m\u001b[0m\n\u001b[0;32m----> 7\u001b[0;31m     \u001b[0mprint\u001b[0m\u001b[0;34m(\u001b[0m\u001b[0;34m'RMSE for'\u001b[0m\u001b[0;34m,\u001b[0m \u001b[0mi\u001b[0m\u001b[0;34m,\u001b[0m \u001b[0;34m'is: '\u001b[0m\u001b[0;34m,\u001b[0m \u001b[0msqrt\u001b[0m\u001b[0;34m(\u001b[0m\u001b[0mmean_squared_error\u001b[0m\u001b[0;34m(\u001b[0m\u001b[0mreal_22\u001b[0m\u001b[0;34m[\u001b[0m\u001b[0;34m'PTF (USD/MWh)'\u001b[0m\u001b[0;34m]\u001b[0m\u001b[0;34m[\u001b[0m\u001b[0mi\u001b[0m\u001b[0;34m]\u001b[0m\u001b[0;34m,\u001b[0m \u001b[0mreal_22\u001b[0m\u001b[0;34m[\u001b[0m\u001b[0;34m'tahmin'\u001b[0m\u001b[0;34m]\u001b[0m\u001b[0;34m[\u001b[0m\u001b[0mi\u001b[0m\u001b[0;34m]\u001b[0m\u001b[0;34m)\u001b[0m\u001b[0;34m)\u001b[0m\u001b[0;34m)\u001b[0m\u001b[0;34m\u001b[0m\u001b[0;34m\u001b[0m\u001b[0m\n\u001b[0m",
            "\u001b[0;32m/usr/local/lib/python3.8/dist-packages/sklearn/metrics/_regression.py\u001b[0m in \u001b[0;36mmean_squared_error\u001b[0;34m(y_true, y_pred, sample_weight, multioutput, squared)\u001b[0m\n\u001b[1;32m    436\u001b[0m     \u001b[0;36m0.825\u001b[0m\u001b[0;34m...\u001b[0m\u001b[0;34m\u001b[0m\u001b[0;34m\u001b[0m\u001b[0m\n\u001b[1;32m    437\u001b[0m     \"\"\"\n\u001b[0;32m--> 438\u001b[0;31m     y_type, y_true, y_pred, multioutput = _check_reg_targets(\n\u001b[0m\u001b[1;32m    439\u001b[0m         \u001b[0my_true\u001b[0m\u001b[0;34m,\u001b[0m \u001b[0my_pred\u001b[0m\u001b[0;34m,\u001b[0m \u001b[0mmultioutput\u001b[0m\u001b[0;34m\u001b[0m\u001b[0;34m\u001b[0m\u001b[0m\n\u001b[1;32m    440\u001b[0m     )\n",
            "\u001b[0;32m/usr/local/lib/python3.8/dist-packages/sklearn/metrics/_regression.py\u001b[0m in \u001b[0;36m_check_reg_targets\u001b[0;34m(y_true, y_pred, multioutput, dtype)\u001b[0m\n\u001b[1;32m     92\u001b[0m         \u001b[0mthe\u001b[0m \u001b[0mdtype\u001b[0m \u001b[0margument\u001b[0m \u001b[0mpassed\u001b[0m \u001b[0mto\u001b[0m \u001b[0mcheck_array\u001b[0m\u001b[0;34m.\u001b[0m\u001b[0;34m\u001b[0m\u001b[0;34m\u001b[0m\u001b[0m\n\u001b[1;32m     93\u001b[0m     \"\"\"\n\u001b[0;32m---> 94\u001b[0;31m     \u001b[0mcheck_consistent_length\u001b[0m\u001b[0;34m(\u001b[0m\u001b[0my_true\u001b[0m\u001b[0;34m,\u001b[0m \u001b[0my_pred\u001b[0m\u001b[0;34m)\u001b[0m\u001b[0;34m\u001b[0m\u001b[0;34m\u001b[0m\u001b[0m\n\u001b[0m\u001b[1;32m     95\u001b[0m     \u001b[0my_true\u001b[0m \u001b[0;34m=\u001b[0m \u001b[0mcheck_array\u001b[0m\u001b[0;34m(\u001b[0m\u001b[0my_true\u001b[0m\u001b[0;34m,\u001b[0m \u001b[0mensure_2d\u001b[0m\u001b[0;34m=\u001b[0m\u001b[0;32mFalse\u001b[0m\u001b[0;34m,\u001b[0m \u001b[0mdtype\u001b[0m\u001b[0;34m=\u001b[0m\u001b[0mdtype\u001b[0m\u001b[0;34m)\u001b[0m\u001b[0;34m\u001b[0m\u001b[0;34m\u001b[0m\u001b[0m\n\u001b[1;32m     96\u001b[0m     \u001b[0my_pred\u001b[0m \u001b[0;34m=\u001b[0m \u001b[0mcheck_array\u001b[0m\u001b[0;34m(\u001b[0m\u001b[0my_pred\u001b[0m\u001b[0;34m,\u001b[0m \u001b[0mensure_2d\u001b[0m\u001b[0;34m=\u001b[0m\u001b[0;32mFalse\u001b[0m\u001b[0;34m,\u001b[0m \u001b[0mdtype\u001b[0m\u001b[0;34m=\u001b[0m\u001b[0mdtype\u001b[0m\u001b[0;34m)\u001b[0m\u001b[0;34m\u001b[0m\u001b[0;34m\u001b[0m\u001b[0m\n",
            "\u001b[0;32m/usr/local/lib/python3.8/dist-packages/sklearn/utils/validation.py\u001b[0m in \u001b[0;36mcheck_consistent_length\u001b[0;34m(*arrays)\u001b[0m\n\u001b[1;32m    327\u001b[0m     \"\"\"\n\u001b[1;32m    328\u001b[0m \u001b[0;34m\u001b[0m\u001b[0m\n\u001b[0;32m--> 329\u001b[0;31m     \u001b[0mlengths\u001b[0m \u001b[0;34m=\u001b[0m \u001b[0;34m[\u001b[0m\u001b[0m_num_samples\u001b[0m\u001b[0;34m(\u001b[0m\u001b[0mX\u001b[0m\u001b[0;34m)\u001b[0m \u001b[0;32mfor\u001b[0m \u001b[0mX\u001b[0m \u001b[0;32min\u001b[0m \u001b[0marrays\u001b[0m \u001b[0;32mif\u001b[0m \u001b[0mX\u001b[0m \u001b[0;32mis\u001b[0m \u001b[0;32mnot\u001b[0m \u001b[0;32mNone\u001b[0m\u001b[0;34m]\u001b[0m\u001b[0;34m\u001b[0m\u001b[0;34m\u001b[0m\u001b[0m\n\u001b[0m\u001b[1;32m    330\u001b[0m     \u001b[0muniques\u001b[0m \u001b[0;34m=\u001b[0m \u001b[0mnp\u001b[0m\u001b[0;34m.\u001b[0m\u001b[0munique\u001b[0m\u001b[0;34m(\u001b[0m\u001b[0mlengths\u001b[0m\u001b[0;34m)\u001b[0m\u001b[0;34m\u001b[0m\u001b[0;34m\u001b[0m\u001b[0m\n\u001b[1;32m    331\u001b[0m     \u001b[0;32mif\u001b[0m \u001b[0mlen\u001b[0m\u001b[0;34m(\u001b[0m\u001b[0muniques\u001b[0m\u001b[0;34m)\u001b[0m \u001b[0;34m>\u001b[0m \u001b[0;36m1\u001b[0m\u001b[0;34m:\u001b[0m\u001b[0;34m\u001b[0m\u001b[0;34m\u001b[0m\u001b[0m\n",
            "\u001b[0;32m/usr/local/lib/python3.8/dist-packages/sklearn/utils/validation.py\u001b[0m in \u001b[0;36m<listcomp>\u001b[0;34m(.0)\u001b[0m\n\u001b[1;32m    327\u001b[0m     \"\"\"\n\u001b[1;32m    328\u001b[0m \u001b[0;34m\u001b[0m\u001b[0m\n\u001b[0;32m--> 329\u001b[0;31m     \u001b[0mlengths\u001b[0m \u001b[0;34m=\u001b[0m \u001b[0;34m[\u001b[0m\u001b[0m_num_samples\u001b[0m\u001b[0;34m(\u001b[0m\u001b[0mX\u001b[0m\u001b[0;34m)\u001b[0m \u001b[0;32mfor\u001b[0m \u001b[0mX\u001b[0m \u001b[0;32min\u001b[0m \u001b[0marrays\u001b[0m \u001b[0;32mif\u001b[0m \u001b[0mX\u001b[0m \u001b[0;32mis\u001b[0m \u001b[0;32mnot\u001b[0m \u001b[0;32mNone\u001b[0m\u001b[0;34m]\u001b[0m\u001b[0;34m\u001b[0m\u001b[0;34m\u001b[0m\u001b[0m\n\u001b[0m\u001b[1;32m    330\u001b[0m     \u001b[0muniques\u001b[0m \u001b[0;34m=\u001b[0m \u001b[0mnp\u001b[0m\u001b[0;34m.\u001b[0m\u001b[0munique\u001b[0m\u001b[0;34m(\u001b[0m\u001b[0mlengths\u001b[0m\u001b[0;34m)\u001b[0m\u001b[0;34m\u001b[0m\u001b[0;34m\u001b[0m\u001b[0m\n\u001b[1;32m    331\u001b[0m     \u001b[0;32mif\u001b[0m \u001b[0mlen\u001b[0m\u001b[0;34m(\u001b[0m\u001b[0muniques\u001b[0m\u001b[0;34m)\u001b[0m \u001b[0;34m>\u001b[0m \u001b[0;36m1\u001b[0m\u001b[0;34m:\u001b[0m\u001b[0;34m\u001b[0m\u001b[0;34m\u001b[0m\u001b[0m\n",
            "\u001b[0;32m/usr/local/lib/python3.8/dist-packages/sklearn/utils/validation.py\u001b[0m in \u001b[0;36m_num_samples\u001b[0;34m(x)\u001b[0m\n\u001b[1;32m    267\u001b[0m     \u001b[0;32mif\u001b[0m \u001b[0mhasattr\u001b[0m\u001b[0;34m(\u001b[0m\u001b[0mx\u001b[0m\u001b[0;34m,\u001b[0m \u001b[0;34m\"shape\"\u001b[0m\u001b[0;34m)\u001b[0m \u001b[0;32mand\u001b[0m \u001b[0mx\u001b[0m\u001b[0;34m.\u001b[0m\u001b[0mshape\u001b[0m \u001b[0;32mis\u001b[0m \u001b[0;32mnot\u001b[0m \u001b[0;32mNone\u001b[0m\u001b[0;34m:\u001b[0m\u001b[0;34m\u001b[0m\u001b[0;34m\u001b[0m\u001b[0m\n\u001b[1;32m    268\u001b[0m         \u001b[0;32mif\u001b[0m \u001b[0mlen\u001b[0m\u001b[0;34m(\u001b[0m\u001b[0mx\u001b[0m\u001b[0;34m.\u001b[0m\u001b[0mshape\u001b[0m\u001b[0;34m)\u001b[0m \u001b[0;34m==\u001b[0m \u001b[0;36m0\u001b[0m\u001b[0;34m:\u001b[0m\u001b[0;34m\u001b[0m\u001b[0;34m\u001b[0m\u001b[0m\n\u001b[0;32m--> 269\u001b[0;31m             raise TypeError(\n\u001b[0m\u001b[1;32m    270\u001b[0m                 \u001b[0;34m\"Singleton array %r cannot be considered a valid collection.\"\u001b[0m \u001b[0;34m%\u001b[0m \u001b[0mx\u001b[0m\u001b[0;34m\u001b[0m\u001b[0;34m\u001b[0m\u001b[0m\n\u001b[1;32m    271\u001b[0m             )\n",
            "\u001b[0;31mTypeError\u001b[0m: Singleton array 82.11541666666666 cannot be considered a valid collection."
          ]
        }
      ]
    },
    {
      "cell_type": "code",
      "source": [
        "tahmin = real_22['tahmin']"
      ],
      "metadata": {
        "id": "8Wlh6yqoiIH_"
      },
      "execution_count": 75,
      "outputs": []
    },
    {
      "cell_type": "code",
      "source": [
        "type(tahmin)"
      ],
      "metadata": {
        "colab": {
          "base_uri": "https://localhost:8080/"
        },
        "id": "KulZjHaoiOdK",
        "outputId": "b1b1a808-ec32-4651-80c9-657bc65a41e6"
      },
      "execution_count": 76,
      "outputs": [
        {
          "output_type": "execute_result",
          "data": {
            "text/plain": [
              "pandas.core.series.Series"
            ]
          },
          "metadata": {},
          "execution_count": 76
        }
      ]
    },
    {
      "cell_type": "code",
      "source": [
        "real_22.drop(columns='tahmin',inplace=True)"
      ],
      "metadata": {
        "id": "1-XsY0nxiTlU"
      },
      "execution_count": 77,
      "outputs": []
    },
    {
      "cell_type": "code",
      "source": [
        "type(real_22)"
      ],
      "metadata": {
        "colab": {
          "base_uri": "https://localhost:8080/"
        },
        "id": "96nFtUiCicvQ",
        "outputId": "4da4a361-b2c2-4084-af65-10f2c2e490c2"
      },
      "execution_count": 78,
      "outputs": [
        {
          "output_type": "execute_result",
          "data": {
            "text/plain": [
              "pandas.core.frame.DataFrame"
            ]
          },
          "metadata": {},
          "execution_count": 78
        }
      ]
    },
    {
      "cell_type": "code",
      "source": [
        "from pandas import read_csv\n",
        "from statsmodels.tsa.arima.model import ARIMA\n",
        "import numpy\n",
        "\n",
        "# create a differenced series\n",
        "def difference(dataset, interval=1):\n",
        "\tdiff = list()\n",
        "\tfor i in range(interval, len(dataset)):\n",
        "\t\tvalue = dataset[i] - dataset[i - interval]\n",
        "\t\tdiff.append(value)\n",
        "\treturn numpy.array(diff)\n",
        "\n",
        "# invert differenced value\n",
        "def inverse_difference(history, yhat, interval=1):\n",
        "\treturn yhat + history[-interval]\n",
        "\n",
        "# load dataset\n",
        "series = read_csv('dataset.csv', header=0)\n",
        "# seasonal difference\n",
        "X = series.values\n",
        "days_in_year = 365\n",
        "differenced = difference(X, days_in_year)\n",
        "# fit model\n",
        "model = ARIMA(differenced, order=(7,0,1))\n",
        "model_fit = model.fit()\n",
        "# multi-step out-of-sample forecast\n",
        "start_index = len(differenced)\n",
        "end_index = start_index + 6\n",
        "forecast = model_fit.predict(start=start_index, end=end_index)\n",
        "# invert the differenced forecast to something usable\n",
        "history = [x for x in X]\n",
        "day = 1\n",
        "for yhat in forecast:\n",
        "\tinverted = inverse_difference(history, yhat, days_in_year)\n",
        "\tprint('Day %d: %f' % (day, inverted))\n",
        "\thistory.append(inverted)\n",
        "\tday += 1"
      ],
      "metadata": {
        "colab": {
          "base_uri": "https://localhost:8080/"
        },
        "id": "igKT4i12WV1z",
        "outputId": "a307bcca-5c4b-4de2-90ae-21ff20488674"
      },
      "execution_count": 13,
      "outputs": [
        {
          "output_type": "stream",
          "name": "stdout",
          "text": [
            "Day 1: 75.368323\n",
            "Day 2: 68.917298\n",
            "Day 3: 70.889784\n",
            "Day 4: 71.200409\n",
            "Day 5: 65.639761\n",
            "Day 6: 72.747125\n",
            "Day 7: 72.701063\n"
          ]
        }
      ]
    }
  ]
}